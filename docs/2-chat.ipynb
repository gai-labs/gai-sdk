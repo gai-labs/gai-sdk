{
 "cells": [
  {
   "cell_type": "markdown",
   "metadata": {},
   "source": [
    "1. Start NATS"
   ]
  },
  {
   "cell_type": "code",
   "execution_count": null,
   "metadata": {
    "vscode": {
     "languageId": "plaintext"
    }
   },
   "outputs": [],
   "source": [
    "import asyncio\n",
    "\n",
    "from nets.aio.client import Client as NATS\n",
    "\n",
    "async def run():\n",
    "\n",
    "    # Connect to NATS\n",
    "    nc = NATS()\n",
    "    await nc.connect(\"nats://localhost:4222)\n",
    "\n",
    "    async def message_handler(msg):\n",
    "        subject = msg.subject\n",
    "        data = msg.data.decode()\n",
    "        print(f\"Received a message on '{subject}': {data}\")"
   ]
  }
 ],
 "metadata": {
  "language_info": {
   "name": "python"
  }
 },
 "nbformat": 4,
 "nbformat_minor": 2
}
